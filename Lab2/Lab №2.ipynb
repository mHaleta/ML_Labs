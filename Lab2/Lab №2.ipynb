{
 "cells": [
  {
   "cell_type": "markdown",
   "metadata": {},
   "source": [
    "# Лабораторна робота №2. Методи класифікації\n",
    "## Виконав студент групи КМ-91мп\n",
    "## Галета М.С.\n",
    "## Завдання на лабораторну роботу\n",
    "<img src=\"task1.png\">"
   ]
  },
  {
   "cell_type": "code",
   "execution_count": 1,
   "metadata": {},
   "outputs": [],
   "source": [
    "import numpy as np\n",
    "import math\n",
    "import pandas as pd\n",
    "import matplotlib.pyplot as plt\n",
    "from sklearn.model_selection import train_test_split\n",
    "\n",
    "%matplotlib inline"
   ]
  },
  {
   "cell_type": "markdown",
   "metadata": {},
   "source": [
    "## Зчитування датасету та його розбиття на тренувальну та відкладену вибірки"
   ]
  },
  {
   "cell_type": "code",
   "execution_count": 2,
   "metadata": {},
   "outputs": [],
   "source": [
    "df = pd.read_csv('MP-04-Galeta.csv', sep=';', names=['x1', 'x2', 'x3', 'x4', 'x5', 'x6', 'x7', 'y'])\n",
    "\n",
    "X_train, X_test = train_test_split(df, test_size=0.2, random_state=42)"
   ]
  },
  {
   "cell_type": "markdown",
   "metadata": {},
   "source": [
    "## Побудова дерева рішень"
   ]
  },
  {
   "cell_type": "code",
   "execution_count": 3,
   "metadata": {},
   "outputs": [],
   "source": [
    "class Tree:\n",
    "    def __init__(self, parent=None):\n",
    "        self.parent = parent\n",
    "        self.children = []\n",
    "        self.splitFeature = None\n",
    "        self.splitFeatureValue = None\n",
    "        self.label = None"
   ]
  },
  {
   "cell_type": "code",
   "execution_count": 4,
   "metadata": {},
   "outputs": [],
   "source": [
    "def dataToDistribution(data):\n",
    "    ''' Функція перетворює набір даних, який має n можливих\n",
    "        класифікаційних міток, в розподіл ймовірностей з n записами. '''\n",
    "    \n",
    "    allLabels = [label for (point, label) in data]\n",
    "    numEntries = len(allLabels)\n",
    "    possibleLabels = set(allLabels)\n",
    "    dist= []\n",
    "    for aLabel in possibleLabels:\n",
    "        dist.append(float(allLabels.count(aLabel)) / numEntries)\n",
    "    return dist"
   ]
  },
  {
   "cell_type": "code",
   "execution_count": 5,
   "metadata": {},
   "outputs": [],
   "source": [
    "def entropy(dist):\n",
    "    ''' Функція обчислює ентропію Шеннона для заданого розподілу ймовірностей. '''\n",
    "    return -sum([p * math.log(p, 2) for p in dist])"
   ]
  },
  {
   "cell_type": "code",
   "execution_count": 6,
   "metadata": {},
   "outputs": [],
   "source": [
    "def splitData(data, featureIndex):\n",
    "    ''' Функція виконує ітерацію над підмножинами даних,\n",
    "        що відповідають кожному значенню функції в індексі featureIndex.'''\n",
    "    \n",
    "    # отримання можливих значень заданої ознаки\n",
    "    attrValues= [point[featureIndex] for (point, label) in data]\n",
    "    for aValue in set(attrValues):\n",
    "        # обчислення частини розбиття, що відповідає обраному значенню\n",
    "        dataSubset= [(point, label) for (point, label) in data if point[featureIndex] == aValue]\n",
    "        yield dataSubset"
   ]
  },
  {
   "cell_type": "code",
   "execution_count": 7,
   "metadata": {},
   "outputs": [],
   "source": [
    "def gain(data, featureIndex):\n",
    "    ''' Функція обчислює очікуваний приріст інформації від\n",
    "        розбиття даних на всі можливі значення функції '''\n",
    "    \n",
    "    entropyGain = entropy(dataToDistribution(data))\n",
    "    for dataSubset in splitData(data, featureIndex):\n",
    "        entropyGain -= entropy(dataToDistribution(dataSubset))\n",
    "    return entropyGain"
   ]
  },
  {
   "cell_type": "code",
   "execution_count": 8,
   "metadata": {},
   "outputs": [],
   "source": [
    "def homogeneous(data):\n",
    "    ''' Функція повертає True, якщо дані мають однакову мітку,\n",
    "        і False в іншому випадку '''\n",
    "    return len(set([label for (point, label) in data])) <= 1"
   ]
  },
  {
   "cell_type": "code",
   "execution_count": 9,
   "metadata": {},
   "outputs": [],
   "source": [
    "def majorityVote(data, node):\n",
    "    ''' Функція повертає вузол мітки з більшістю міток класу в даному наборі даних '''\n",
    "    \n",
    "    labels = [label for (point, label) in data]\n",
    "    choice = max(set(labels), key=labels.count)\n",
    "    node.label= choice\n",
    "    return node"
   ]
  },
  {
   "cell_type": "code",
   "execution_count": 10,
   "metadata": {},
   "outputs": [],
   "source": [
    "def buildDecisionTree(data, root, remainingFeatures, max_depth):\n",
    "    ''' Функція будує дерево рішень з даних даних,\n",
    "        додаючи дітей до кореневого вузла (який може бути піддеревом) '''\n",
    "    \n",
    "    # Глобальна змінна, яка позначає поточну глибину дерева\n",
    "    global current_depth\n",
    "    \n",
    "    # Зупиняємось, якщо поточна глибина більша за максимально допустиму глибину дерева\n",
    "    if current_depth >= max_depth:\n",
    "        remainingFeatures = []\n",
    "    \n",
    "    # Якщо всі елементи мають однаковий клас, то класифікуємо листок дерева міткою цього класу\n",
    "    if homogeneous(data):\n",
    "        root.label= data[0][1]\n",
    "        root.classCounts = {root.label: len(data)}\n",
    "        return root\n",
    "    \n",
    "    # Якщо немає більше ознак для подальшого розбиття, \n",
    "    # то класифікуємо листок дерева міткою класу якого більшість\n",
    "    if len(remainingFeatures) == 0:\n",
    "        return majorityVote(data, root)\n",
    "    \n",
    "    # Знаходження індексу найкращої функції для поділу\n",
    "    bestFeature= max(remainingFeatures, key=lambda index: gain(data, index))\n",
    "    # Якщо приріст інформації дорівнює нулю,\n",
    "    # то класифікуємо листок дерева міткою класу якого більшість\n",
    "    if gain(data, bestFeature) == 0:\n",
    "        return majorityVote(data, root)\n",
    "    \n",
    "    root.splitFeature = bestFeature\n",
    "    \n",
    "    #Додавання дочірніх вузлів для вже існуючих\n",
    "    for dataSubset in splitData(data, bestFeature):\n",
    "        aChild = Tree(parent=root)\n",
    "        aChild.splitFeatureValue = dataSubset[0][0][bestFeature]\n",
    "        root.children.append(aChild)\n",
    "        \n",
    "        #Запуск рекурсивного процесу, де дочірні вузли виступають в якості батьківського вузла\n",
    "        buildDecisionTree(dataSubset, aChild, remainingFeatures - set([bestFeature]), max_depth)\n",
    "        \n",
    "    current_depth += 1\n",
    "    \n",
    "    return root"
   ]
  },
  {
   "cell_type": "code",
   "execution_count": 11,
   "metadata": {},
   "outputs": [],
   "source": [
    "def decisionTree(data, max_depth):\n",
    "    ''' Функція повертає збудоване дерево '''\n",
    "    return buildDecisionTree(data, Tree(), set(range(len(data[0][0]))), max_depth)"
   ]
  },
  {
   "cell_type": "code",
   "execution_count": 12,
   "metadata": {},
   "outputs": [],
   "source": [
    "def classify(tree, point):\n",
    "    ''' Функція класифікаці даних шляхом проходження даного дерева рішень. '''\n",
    "    if tree.children== []:\n",
    "        return tree.label\n",
    "    else:\n",
    "        matchingChildren = []\n",
    "        for child in tree.children:\n",
    "            if child.splitFeatureValue == point[tree.splitFeature]:\n",
    "                matchingChildren.append(child)\n",
    "                \n",
    "        try:\n",
    "            return classify(matchingChildren[0], point)\n",
    "        except Exception:\n",
    "            return child.label"
   ]
  },
  {
   "cell_type": "markdown",
   "metadata": {},
   "source": [
    "## Оцінювання якості збудованого дерева"
   ]
  },
  {
   "cell_type": "code",
   "execution_count": 13,
   "metadata": {},
   "outputs": [
    {
     "name": "stdout",
     "output_type": "stream",
     "text": [
      "============= max_depth - 2 =============\n",
      "Train accuracy: 44.23 %\n",
      "Test accuracy: 23.076923076923077 %\n",
      "\n",
      "============= max_depth - 3 =============\n",
      "Train accuracy: 44.23 %\n",
      "Test accuracy: 23.076923076923077 %\n",
      "\n",
      "============= max_depth - 4 =============\n",
      "Train accuracy: 44.23 %\n",
      "Test accuracy: 23.076923076923077 %\n",
      "\n",
      "============= max_depth - 5 =============\n",
      "Train accuracy: 44.23 %\n",
      "Test accuracy: 23.076923076923077 %\n",
      "\n",
      "============= max_depth - 6 =============\n",
      "Train accuracy: 46.15 %\n",
      "Test accuracy: 15.384615384615385 %\n",
      "\n",
      "============= max_depth - 7 =============\n",
      "Train accuracy: 46.15 %\n",
      "Test accuracy: 15.384615384615385 %\n",
      "\n",
      "============= max_depth - 8 =============\n",
      "Train accuracy: 57.69 %\n",
      "Test accuracy: 0.0 %\n",
      "\n",
      "============= max_depth - 9 =============\n",
      "Train accuracy: 63.46 %\n",
      "Test accuracy: 0.0 %\n",
      "\n",
      "============= max_depth - 10 =============\n",
      "Train accuracy: 63.46 %\n",
      "Test accuracy: 0.0 %\n",
      "\n"
     ]
    }
   ],
   "source": [
    "train_data = [(x[:-1], x[-1]) for x in X_train.values.tolist()]\n",
    "test_data = [(x[:-1], x[-1]) for x in X_test.values.tolist()]\n",
    "\n",
    "y_train = np.array([label for point, label in train_data])\n",
    "y_test = np.array([label for point, label in test_data])\n",
    "\n",
    "for max_depth in range(2, 11):\n",
    "    current_depth = 0\n",
    "    tree = decisionTree(train_data, max_depth=max_depth)\n",
    "\n",
    "    y_predicted_train = [classify(tree, point) for point, label in train_data]\n",
    "    y_predicted_test = [classify(tree, point) for point, label in test_data]\n",
    "    \n",
    "    accuracy_test = (y_predicted_test == y_test).mean()\n",
    "    accuracy_train = (y_predicted_train == y_train).mean()\n",
    "    \n",
    "    print('============= max_depth -', max_depth, '=============')\n",
    "    print('Train accuracy:',np.round(accuracy_train*100,2),'%')\n",
    "    print('Test accuracy:',accuracy_test*100,'%')\n",
    "    print('')"
   ]
  },
  {
   "cell_type": "markdown",
   "metadata": {},
   "source": [
    "### Отже, при глибині дерева 2, 3, 4 або 5 воно найкраще класифікує відкладену вибірку"
   ]
  },
  {
   "cell_type": "code",
   "execution_count": 14,
   "metadata": {},
   "outputs": [],
   "source": [
    "train_data = [(x[:-1], x[-1]) for x in X_train.values.tolist()]\n",
    "test_data = [(x[:-1], x[-1]) for x in X_test.values.tolist()]\n",
    "\n",
    "y_train = np.array([label for point, label in train_data])\n",
    "y_test = np.array([label for point, label in test_data])\n",
    "\n",
    "current_depth = 0\n",
    "tree = decisionTree(train_data, max_depth=4)\n",
    "\n",
    "y_predicted_train = [classify(tree, point) for point, label in train_data]\n",
    "y_predicted_test = [classify(tree, point) for point, label in test_data]"
   ]
  },
  {
   "cell_type": "code",
   "execution_count": 15,
   "metadata": {},
   "outputs": [
    {
     "data": {
      "image/png": "[encoded data removed]",
      "text/plain": [
       "<Figure size 720x432 with 1 Axes>"
      ]
     },
     "metadata": {
      "needs_background": "light"
     },
     "output_type": "display_data"
    }
   ],
   "source": [
    "x = np.arange(len(y_test)) \n",
    "width = 0.3\n",
    "\n",
    "fig, ax = plt.subplots(figsize=(10,6))\n",
    "ax.bar(x - width/2, y_test, width, label='true labels')\n",
    "ax.bar(x + width/2, y_predicted_test, width, label='predicted labels')\n",
    "\n",
    "ax.set_ylabel('Class label')\n",
    "ax.set_xticks(x)\n",
    "ax.legend()\n",
    "plt.show()"
   ]
  },
  {
   "cell_type": "markdown",
   "metadata": {},
   "source": [
    "## Метод KNN"
   ]
  },
  {
   "cell_type": "code",
   "execution_count": 16,
   "metadata": {},
   "outputs": [],
   "source": [
    "x_train = X_train[X_train.columns[0:-1]].values\n",
    "y_train = X_train[X_train.columns[-1]].values\n",
    "x_test = X_test[X_test.columns[0:-1]].values\n",
    "y_test = X_test[X_test.columns[-1]].values"
   ]
  },
  {
   "cell_type": "code",
   "execution_count": 17,
   "metadata": {},
   "outputs": [],
   "source": [
    "def compute_distances(x_known, x_unknown):\n",
    "    \n",
    "    num_pred = x_unknown.shape[0]\n",
    "    num_data = x_known.shape[0]\n",
    "    \n",
    "    dists = np.zeros((num_pred, num_data))\n",
    "\n",
    "    for i in range(num_pred):\n",
    "        for j in range(num_data):\n",
    "            dists[i,j] = np.sum(x_known[j] == x_unknown[i])\n",
    "            \n",
    "    return dists"
   ]
  },
  {
   "cell_type": "code",
   "execution_count": 18,
   "metadata": {},
   "outputs": [],
   "source": [
    "def k_nearest_labels(dists, y_known, k):\n",
    "        \n",
    "    num_pred = dists.shape[0]\n",
    "    n_nearest = []\n",
    "    \n",
    "    for j in range(num_pred):\n",
    "        dst = dists[j]\n",
    "        closest_y = y_known[np.argpartition(dst, k-1)[:k]]\n",
    "        \n",
    "        n_nearest.append(closest_y)\n",
    "        \n",
    "    return np.asarray(n_nearest)"
   ]
  },
  {
   "cell_type": "code",
   "execution_count": 19,
   "metadata": {},
   "outputs": [],
   "source": [
    "class KNearest_Neighbours:\n",
    "    \n",
    "    def __init__(self, k):\n",
    "        self.k = k\n",
    "        self.test_set_x = None\n",
    "        self.train_set_x = None\n",
    "        self.train_set_y = None\n",
    "\n",
    "        \n",
    "    def fit(self, train_set_x, train_set_y):\n",
    "        self.train_set_x = train_set_x\n",
    "        self.train_set_y = train_set_y\n",
    "        \n",
    "    def predict(self, test_set_x):\n",
    "\n",
    "        y_labels = k_nearest_labels(compute_distances(self.train_set_x, test_set_x), self.train_set_y, self.k)\n",
    "        y_predictions = []\n",
    "        for i in range(y_labels.shape[0]):\n",
    "            bc = np.bincount(y_labels[i])\n",
    "            y_predictions.append(np.arange(len(bc))[bc == bc.max()].min())\n",
    "        \n",
    "        return y_predictions"
   ]
  },
  {
   "cell_type": "code",
   "execution_count": 20,
   "metadata": {},
   "outputs": [
    {
     "name": "stdout",
     "output_type": "stream",
     "text": [
      "k = 1; accuracy = 7.6923076923076925%\n",
      "k = 3; accuracy = 15.384615384615385%\n",
      "k = 5; accuracy = 15.384615384615385%\n",
      "k = 7; accuracy = 15.384615384615385%\n",
      "k = 9; accuracy = 7.6923076923076925%\n"
     ]
    }
   ],
   "source": [
    "for k in range(1, 10, 2):\n",
    "    knn = KNearest_Neighbours(k)\n",
    "    knn.fit(x_train, y_train)\n",
    "    y_pred_knn = knn.predict(x_test)\n",
    "    accuracy = (y_pred_knn == y_test).mean() * 100\n",
    "    print(\"k = {}; accuracy = {}%\".format(k, accuracy))"
   ]
  },
  {
   "cell_type": "markdown",
   "metadata": {},
   "source": [
    "### З даних результатів видно, що для даного набору даних кількість сусідів, при якій алгоритм дає найбільшу точність, дорівнює 3, 5 або 7. Гірша точність при К = 1 або 9."
   ]
  },
  {
   "cell_type": "code",
   "execution_count": 21,
   "metadata": {},
   "outputs": [],
   "source": [
    "knn = KNearest_Neighbours(5)\n",
    "knn.fit(x_train, y_train)\n",
    "y_pred_knn = knn.predict(x_test)"
   ]
  },
  {
   "cell_type": "code",
   "execution_count": 22,
   "metadata": {},
   "outputs": [
    {
     "name": "stdout",
     "output_type": "stream",
     "text": [
      "К найближчих сусідів:     [10, 10, 10, 10, 13, 10, 13, 8, 10, 13, 9, 9, 10]\n",
      "Дерева прийняття рішень:  [11, 10, 11, 11, 11, 10, 11, 11, 10, 11, 13, 14, 11]\n"
     ]
    }
   ],
   "source": [
    "print(\"К найближчих сусідів:    \",y_pred_knn)\n",
    "print(\"Дерева прийняття рішень: \",y_predicted_test)"
   ]
  },
  {
   "cell_type": "code",
   "execution_count": 23,
   "metadata": {},
   "outputs": [
    {
     "name": "stdout",
     "output_type": "stream",
     "text": [
      "Кількість однаково спрогнозованих значень двома методами:  3\n"
     ]
    }
   ],
   "source": [
    "print(\"Кількість однаково спрогнозованих значень двома методами: \",sum(np.array(y_predicted_test) == (y_pred_knn)))"
   ]
  },
  {
   "cell_type": "markdown",
   "metadata": {},
   "source": [
    "## Висновки\n",
    "##### 1) Було реалізовано два методи класифікації: дерево прийняття рішень та KNN\n",
    "##### 2) В ході роботи було встановлено, що дерево прийняття рішень дає кращий результат на відкладеній вибірці, ніж KNN"
   ]
  }
 ],
 "metadata": {
  "kernelspec": {
   "display_name": "Python 3",
   "language": "python",
   "name": "python3"
  },
  "language_info": {
   "codemirror_mode": {
    "name": "ipython",
    "version": 3
   },
   "file_extension": ".py",
   "mimetype": "text/x-python",
   "name": "python",
   "nbconvert_exporter": "python",
   "pygments_lexer": "ipython3",
   "version": "3.7.3"
  }
 },
 "nbformat": 4,
 "nbformat_minor": 2
}
