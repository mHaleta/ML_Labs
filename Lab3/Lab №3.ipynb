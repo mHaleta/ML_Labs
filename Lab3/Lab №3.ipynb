{
 "cells": [
  {
   "cell_type": "markdown",
   "metadata": {},
   "source": [
    "# Лабораторна робота №3. Байєсівський класифікатор\n",
    "## Виконав студент групи КМ-91мп\n",
    "## Галета М.С.\n",
    "## Завдання на лабораторну роботу\n",
    "<img src=\"task.png\">"
   ]
  },
  {
   "cell_type": "code",
   "execution_count": 1,
   "metadata": {},
   "outputs": [],
   "source": [
    "import numpy as np\n",
    "import pandas as pd\n",
    "import matplotlib.pyplot as plt\n",
    "from sklearn.model_selection import train_test_split"
   ]
  },
  {
   "cell_type": "markdown",
   "metadata": {},
   "source": [
    "## Зчитування датасету"
   ]
  },
  {
   "cell_type": "code",
   "execution_count": 2,
   "metadata": {},
   "outputs": [
    {
     "data": {
      "text/html": [
       "<div>\n",
       "<style scoped>\n",
       "    .dataframe tbody tr th:only-of-type {\n",
       "        vertical-align: middle;\n",
       "    }\n",
       "\n",
       "    .dataframe tbody tr th {\n",
       "        vertical-align: top;\n",
       "    }\n",
       "\n",
       "    .dataframe thead th {\n",
       "        text-align: right;\n",
       "    }\n",
       "</style>\n",
       "<table border=\"1\" class=\"dataframe\">\n",
       "  <thead>\n",
       "    <tr style=\"text-align: right;\">\n",
       "      <th></th>\n",
       "      <th>x1</th>\n",
       "      <th>x2</th>\n",
       "      <th>x3</th>\n",
       "      <th>x4</th>\n",
       "      <th>x5</th>\n",
       "      <th>x6</th>\n",
       "      <th>x7</th>\n",
       "      <th>x8</th>\n",
       "      <th>x9</th>\n",
       "      <th>x10</th>\n",
       "      <th>x11</th>\n",
       "      <th>x12</th>\n",
       "      <th>y</th>\n",
       "    </tr>\n",
       "  </thead>\n",
       "  <tbody>\n",
       "    <tr>\n",
       "      <th>0</th>\n",
       "      <td>x</td>\n",
       "      <td>y</td>\n",
       "      <td>g</td>\n",
       "      <td>t</td>\n",
       "      <td>n</td>\n",
       "      <td>c</td>\n",
       "      <td>b</td>\n",
       "      <td>n</td>\n",
       "      <td>t</td>\n",
       "      <td>s</td>\n",
       "      <td>n</td>\n",
       "      <td>d</td>\n",
       "      <td>edible</td>\n",
       "    </tr>\n",
       "    <tr>\n",
       "      <th>1</th>\n",
       "      <td>x</td>\n",
       "      <td>f</td>\n",
       "      <td>n</td>\n",
       "      <td>t</td>\n",
       "      <td>n</td>\n",
       "      <td>c</td>\n",
       "      <td>b</td>\n",
       "      <td>n</td>\n",
       "      <td>t</td>\n",
       "      <td>s</td>\n",
       "      <td>n</td>\n",
       "      <td>d</td>\n",
       "      <td>edible</td>\n",
       "    </tr>\n",
       "    <tr>\n",
       "      <th>2</th>\n",
       "      <td>f</td>\n",
       "      <td>s</td>\n",
       "      <td>w</td>\n",
       "      <td>f</td>\n",
       "      <td>n</td>\n",
       "      <td>w</td>\n",
       "      <td>b</td>\n",
       "      <td>k</td>\n",
       "      <td>t</td>\n",
       "      <td>f</td>\n",
       "      <td>n</td>\n",
       "      <td>g</td>\n",
       "      <td>edible</td>\n",
       "    </tr>\n",
       "    <tr>\n",
       "      <th>3</th>\n",
       "      <td>f</td>\n",
       "      <td>y</td>\n",
       "      <td>w</td>\n",
       "      <td>t</td>\n",
       "      <td>p</td>\n",
       "      <td>c</td>\n",
       "      <td>n</td>\n",
       "      <td>p</td>\n",
       "      <td>e</td>\n",
       "      <td>s</td>\n",
       "      <td>n</td>\n",
       "      <td>g</td>\n",
       "      <td>poisonous</td>\n",
       "    </tr>\n",
       "    <tr>\n",
       "      <th>4</th>\n",
       "      <td>f</td>\n",
       "      <td>y</td>\n",
       "      <td>n</td>\n",
       "      <td>t</td>\n",
       "      <td>p</td>\n",
       "      <td>c</td>\n",
       "      <td>n</td>\n",
       "      <td>k</td>\n",
       "      <td>e</td>\n",
       "      <td>s</td>\n",
       "      <td>n</td>\n",
       "      <td>g</td>\n",
       "      <td>poisonous</td>\n",
       "    </tr>\n",
       "  </tbody>\n",
       "</table>\n",
       "</div>"
      ],
      "text/plain": [
       "  x1 x2 x3 x4 x5 x6 x7 x8 x9 x10 x11 x12          y\n",
       "0  x  y  g  t  n  c  b  n  t   s   n   d     edible\n",
       "1  x  f  n  t  n  c  b  n  t   s   n   d     edible\n",
       "2  f  s  w  f  n  w  b  k  t   f   n   g     edible\n",
       "3  f  y  w  t  p  c  n  p  e   s   n   g  poisonous\n",
       "4  f  y  n  t  p  c  n  k  e   s   n   g  poisonous"
      ]
     },
     "execution_count": 2,
     "metadata": {},
     "output_type": "execute_result"
    }
   ],
   "source": [
    "dataset = pd.read_csv('MP-04-Galeta.csv', sep=';',\n",
    "                      names=['x1', 'x2', 'x3', 'x4', 'x5', 'x6', 'x7', 'x8', 'x9', 'x10', 'x11', 'x12', 'y'])\n",
    "dataset.head(5)"
   ]
  },
  {
   "cell_type": "markdown",
   "metadata": {},
   "source": [
    "## 1) Розділення датасету на тренувальну та тестову вибірки"
   ]
  },
  {
   "cell_type": "code",
   "execution_count": 3,
   "metadata": {},
   "outputs": [],
   "source": [
    "X_train, X_test, y_train, y_test = train_test_split(dataset.iloc[:,:-1].values,\n",
    "                                                    dataset.iloc[:, -1].values,\n",
    "                                                    test_size=0.4,\n",
    "                                                    random_state=42)"
   ]
  },
  {
   "cell_type": "code",
   "execution_count": 4,
   "metadata": {},
   "outputs": [],
   "source": [
    "def categories_words(x_train, y_train):\n",
    "    \"\"\" Функція, яка повертає списки зі слів,\n",
    "        що відносяться до відповідних класів \"\"\"\n",
    "   \n",
    "    all_words_list = []\n",
    "    edible_words_list = []\n",
    "    poisonous_words_list = []\n",
    "    \n",
    "    for i, y in enumerate(y_train):\n",
    "        if y == 'edible':\n",
    "            edible_words_list += list(x_train[i])\n",
    "        if y == 'poisonous':\n",
    "            poisonous_words_list += list(x_train[i])\n",
    "    all_words_list = set(edible_words_list + poisonous_words_list)\n",
    "    \n",
    "    return all_words_list, edible_words_list, poisonous_words_list"
   ]
  },
  {
   "cell_type": "markdown",
   "metadata": {},
   "source": [
    "## 2) Побудова наївного байєсівського класифікатора"
   ]
  },
  {
   "cell_type": "code",
   "execution_count": 5,
   "metadata": {},
   "outputs": [],
   "source": [
    "class NaiveBayesClassifier:\n",
    "    def __init__(self, alpha):\n",
    "        self.alpha = alpha\n",
    "        \n",
    "        self.train_set_x = None\n",
    "        self.train_set_y = None\n",
    "        \n",
    "        self.all_words_list = []\n",
    "        self.ham_words_list = []\n",
    "        self.spam_words_list = []\n",
    "    \n",
    "    def fit(self, train_set_x, train_set_y):\n",
    "        \n",
    "        self.all_words_list, self.edible_words_list, self.poisonous_words_list = categories_words(train_set_x, train_set_y)\n",
    "        \n",
    "        self.edible_words_list = np.array(self.edible_words_list)\n",
    "        self.poisonous_words_list = np.array(self.poisonous_words_list)\n",
    "        self.theta_edible = {}\n",
    "        self.theta_poisonous = {}\n",
    "        k = len(self.all_words_list)\n",
    "        n_p, n_e = len(self.poisonous_words_list), len(self.edible_words_list)\n",
    "        unique_p, counts_p = np.unique(self.poisonous_words_list, return_counts=True)\n",
    "        x_p = dict(zip(unique_p, counts_p))\n",
    "        unique_e, counts_e = np.unique(self.edible_words_list, return_counts=True)\n",
    "        x_e = dict(zip(unique_e, counts_e))\n",
    "        \n",
    "        for w in self.all_words_list:\n",
    "            self.theta_edible[w] = (x_e.get(w, 0) + self.alpha) / (n_e + self.alpha * k)\n",
    "            self.theta_poisonous[w] = (x_p.get(w, 0) + self.alpha) / (n_p + self.alpha * k)\n",
    "        \n",
    "        self.p_p = (train_set_y == 'poisonous').sum() / len(train_set_y)\n",
    "        self.p_e = (train_set_y == 'edible').sum() / len(train_set_y)\n",
    "        \n",
    "    def predict(self, test_set_x):\n",
    "        \n",
    "        prediction = []\n",
    "        for sent in test_set_x:\n",
    "            pr_p = np.log(self.p_p)\n",
    "            pr_e = np.log(self.p_e)\n",
    "            for w in sent:\n",
    "                if w in self.theta_poisonous:\n",
    "                    pr_p += np.log(self.theta_poisonous.get(w, 1))\n",
    "                if w in self.theta_edible:\n",
    "                    pr_e += np.log(self.theta_edible.get(w, 1))\n",
    "            prediction += ['poisonous' if pr_p >= pr_e else 'edible']\n",
    "            \n",
    "        return prediction"
   ]
  },
  {
   "cell_type": "code",
   "execution_count": 6,
   "metadata": {},
   "outputs": [],
   "source": [
    "alpha = 1 # Коефіцієнт згладжування\n",
    "nbc = NaiveBayesClassifier(alpha)\n",
    "nbc.fit(X_train, y_train)"
   ]
  },
  {
   "cell_type": "code",
   "execution_count": 7,
   "metadata": {},
   "outputs": [],
   "source": [
    "y_pred = np.array(nbc.predict(X_test))"
   ]
  },
  {
   "cell_type": "markdown",
   "metadata": {},
   "source": [
    "## 3) Оцінка результату на тестовій вибірці"
   ]
  },
  {
   "cell_type": "code",
   "execution_count": 8,
   "metadata": {},
   "outputs": [
    {
     "name": "stdout",
     "output_type": "stream",
     "text": [
      "Доля правильно вгаданих відповідей на тестовій вибірці: 0.98 %\n"
     ]
    }
   ],
   "source": [
    "actual = list(y_test)\n",
    "accuracy = (y_pred == y_test).mean()\n",
    "print(\"Доля правильно вгаданих відповідей на тестовій вибірці:\", accuracy, '%')"
   ]
  },
  {
   "cell_type": "markdown",
   "metadata": {},
   "source": [
    "## 4) Графічне представлення результатів"
   ]
  },
  {
   "cell_type": "code",
   "execution_count": 9,
   "metadata": {},
   "outputs": [],
   "source": [
    "y_test_plot = np.where(y_test == 'edible', 1, y_test)\n",
    "y_test_plot = np.where(y_test_plot == 'poisonous', 2, y_test_plot)\n",
    "y_pred_plot = np.where(y_pred == 'edible', 1, y_pred)\n",
    "y_pred_plot = np.where(y_pred_plot == 'poisonous', 2, y_pred_plot).astype(int)"
   ]
  },
  {
   "cell_type": "code",
   "execution_count": 10,
   "metadata": {},
   "outputs": [
    {
     "data": {
      "image/png": "[encoded data removed]",
      "text/plain": [
       "<Figure size 1080x432 with 1 Axes>"
      ]
     },
     "metadata": {
      "needs_background": "light"
     },
     "output_type": "display_data"
    },
    {
     "data": {
      "image/png": "[encoded data removed]",
      "text/plain": [
       "<Figure size 1080x432 with 1 Axes>"
      ]
     },
     "metadata": {
      "needs_background": "light"
     },
     "output_type": "display_data"
    }
   ],
   "source": [
    "x = np.arange(len(y_test[:50]))\n",
    "width = 0.3\n",
    "fig, ax = plt.subplots(figsize=(15,6))\n",
    "plt.title(\"Перші 50\", fontsize=20)\n",
    "ax.bar(x - width/2, y_test_plot[:50], width, label='true labels')\n",
    "ax.bar(x + width/2, y_pred_plot[:50], width, label='predicted labels')\n",
    "ax.set_ylabel('Class label')\n",
    "ax.set_xticks(x)\n",
    "ax.set_yticklabels(('','','','','Edible','','','', 'Poisonous'))\n",
    "ax.legend()\n",
    "plt.tight_layout()\n",
    "\n",
    "x = np.arange(len(y_test[50:]))\n",
    "width = 0.3\n",
    "fig, ax = plt.subplots(figsize=(15,6))\n",
    "plt.title(\"Останні 50\", fontsize=20)\n",
    "ax.bar(x - width/2, y_test_plot[50:], width, label='true labels')\n",
    "ax.bar(x + width/2, y_pred_plot[50:], width, label='predicted labels')\n",
    "ax.set_ylabel('Class label')\n",
    "ax.set_xticks(x)\n",
    "ax.set_yticklabels(('','','','','Edible','','','', 'Poisonous'))\n",
    "ax.legend()\n",
    "plt.tight_layout()"
   ]
  },
  {
   "cell_type": "markdown",
   "metadata": {},
   "source": [
    "## Висновки\n",
    "#### 1) Було збудовано наївний байєсівський класифікатор\n",
    "#### 2) Класифікатор показує високу долю правильно вгаданих відповідей, помилився лише в 2-х випадках"
   ]
  }
 ],
 "metadata": {
  "kernelspec": {
   "display_name": "Python 3",
   "language": "python",
   "name": "python3"
  },
  "language_info": {
   "codemirror_mode": {
    "name": "ipython",
    "version": 3
   },
   "file_extension": ".py",
   "mimetype": "text/x-python",
   "name": "python",
   "nbconvert_exporter": "python",
   "pygments_lexer": "ipython3",
   "version": "3.7.3"
  }
 },
 "nbformat": 4,
 "nbformat_minor": 2
}
